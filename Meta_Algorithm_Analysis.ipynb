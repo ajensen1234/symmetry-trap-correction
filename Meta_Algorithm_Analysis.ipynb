{
 "cells": [
  {
   "cell_type": "code",
   "execution_count": 1,
   "metadata": {},
   "outputs": [],
   "source": [
    "import pandas as pd\n",
    "import kinproc as kp\n",
    "from kinproc.jtsFunctions import *\n",
    "from Kinematics_Dataframe import Kinematics_Dataframe\n",
    "from utils import *\n",
    "from Meta_Algorithm import *\n",
    "import pickle\n",
    "import numpy as np\n",
    "import sklearn"
   ]
  },
  {
   "cell_type": "code",
   "execution_count": 2,
   "metadata": {},
   "outputs": [],
   "source": [
    "def load_sklearn_model_from_pickle(model_name):\n",
    "    import pickle\n",
    "\n",
    "    with open(model_name, \"rb\") as file:\n",
    "        model = pickle.load(file)\n",
    "    return model"
   ]
  },
  {
   "cell_type": "code",
   "execution_count": 3,
   "metadata": {},
   "outputs": [],
   "source": [
    "svm_model = load_sklearn_model_from_pickle(\"svm_model.sav\")\n",
    "stacked_model = load_sklearn_model_from_pickle(\"stacked_model.sav\")\n",
    "knn_model = load_sklearn_model_from_pickle(\"knn_model.sav\")"
   ]
  },
  {
   "cell_type": "markdown",
   "metadata": {},
   "source": [
    "# Creating dataframes\n",
    "Loading the dataframes for the totality of the data as well as the specific test set that we care about.\n",
    "\n",
    "Because the full df has more informationm, we we are going to grab specific image sequences from the test data and append the same sequences from the total dataframe."
   ]
  },
  {
   "cell_type": "code",
   "execution_count": 4,
   "metadata": {},
   "outputs": [],
   "source": [
    "dataframe_name = \"./all_kinematics_dataframe.pkl\"\n",
    "anon_dataframe_path = \"./ANONYMIZED_DATA.kin\"\n",
    "# load dataframe\n",
    "\n",
    "df = pd.read_pickle(dataframe_name)\n",
    "test_data_df = pd.read_pickle(anon_dataframe_path)"
   ]
  },
  {
   "cell_type": "code",
   "execution_count": 5,
   "metadata": {},
   "outputs": [],
   "source": [
    "Study_1_df = Symmetry_Trap_Solver(test_data_df, \"Study_1\")\n",
    "Study_3_df = Symmetry_Trap_Solver(test_data_df, \"Study_5\")\n",
    "Study_6_df = Symmetry_Trap_Solver(test_data_df, \"Study_6\")\n",
    "Study_7_df = Symmetry_Trap_Solver(test_data_df, \"Study_7\")"
   ]
  },
  {
   "cell_type": "code",
   "execution_count": 6,
   "metadata": {},
   "outputs": [
    {
     "name": "stdout",
     "output_type": "stream",
     "text": [
      "study number:  Study_1 Patient_1_Session_1_Movement_1\n",
      "study number:  Study_1 Patient_2_Session_1_Movement_1\n",
      "study number:  Study_1 Patient_2_Session_1_Movement_2\n",
      "study number:  Study_1 Patient_3_Session_1_Movement_2\n",
      "study number:  Study_1 Patient_4_Session_1_Movement_2\n",
      "study number:  Study_1 Patient_5_Session_1_Movement_2\n",
      "study number:  Study_1 Patient_6_Session_1_Movement_2\n",
      "study number:  Study_5 Patient_1_Session_1_Movement_1\n",
      "study number:  Study_5 Patient_1_Session_1_Movement_2\n",
      "study number:  Study_5 Patient_1_Session_1_Movement_3\n",
      "study number:  Study_5 Patient_1_Session_1_Movement_4\n",
      "study number:  Study_6 Patient_3_Session_1_Movement_1\n",
      "study number:  Study_6 Patient_3_Session_1_Movement_2\n",
      "study number:  Study_6 Patient_3_Session_1_Movement_3\n",
      "study number:  Study_6 Patient_3_Session_1_Stair_1\n"
     ]
    },
    {
     "ename": "IndexError",
     "evalue": "index 0 is out of bounds for axis 0 with size 0",
     "output_type": "error",
     "traceback": [
      "\u001b[0;31m---------------------------------------------------------------------------\u001b[0m",
      "\u001b[0;31mIndexError\u001b[0m                                Traceback (most recent call last)",
      "\u001b[1;32m/home/ajensen123@ad.ufl.edu/repo/symmetry-trap-correction/Meta_Algorithm_Analysis.ipynb Cell 7\u001b[0m line \u001b[0;36m2\n\u001b[1;32m     <a href='vscode-notebook-cell:/home/ajensen123%40ad.ufl.edu/repo/symmetry-trap-correction/Meta_Algorithm_Analysis.ipynb#W6sZmlsZQ%3D%3D?line=26'>27</a>\u001b[0m \u001b[39m#get study number\u001b[39;00m\n\u001b[1;32m     <a href='vscode-notebook-cell:/home/ajensen123%40ad.ufl.edu/repo/symmetry-trap-correction/Meta_Algorithm_Analysis.ipynb#W6sZmlsZQ%3D%3D?line=27'>28</a>\u001b[0m \u001b[39mprint\u001b[39m(\u001b[39m\"\u001b[39m\u001b[39mstudy number: \u001b[39m\u001b[39m\"\u001b[39m, study_df\u001b[39m.\u001b[39mstudy, dict_key)\n\u001b[0;32m---> <a href='vscode-notebook-cell:/home/ajensen123%40ad.ufl.edu/repo/symmetry-trap-correction/Meta_Algorithm_Analysis.ipynb#W6sZmlsZQ%3D%3D?line=28'>29</a>\u001b[0m side \u001b[39m=\u001b[39m df[\n\u001b[1;32m     <a href='vscode-notebook-cell:/home/ajensen123%40ad.ufl.edu/repo/symmetry-trap-correction/Meta_Algorithm_Analysis.ipynb#W6sZmlsZQ%3D%3D?line=29'>30</a>\u001b[0m     (df[\u001b[39m\"\u001b[39;49m\u001b[39mPatient\u001b[39;49m\u001b[39m\"\u001b[39;49m] \u001b[39m==\u001b[39;49m pat) \u001b[39m&\u001b[39;49m (df[\u001b[39m\"\u001b[39;49m\u001b[39mSession\u001b[39;49m\u001b[39m\"\u001b[39;49m] \u001b[39m==\u001b[39;49m ses) \u001b[39m&\u001b[39;49m (df[\u001b[39m\"\u001b[39;49m\u001b[39mMovement\u001b[39;49m\u001b[39m\"\u001b[39;49m] \u001b[39m==\u001b[39;49m mvt)\n\u001b[1;32m     <a href='vscode-notebook-cell:/home/ajensen123%40ad.ufl.edu/repo/symmetry-trap-correction/Meta_Algorithm_Analysis.ipynb#W6sZmlsZQ%3D%3D?line=30'>31</a>\u001b[0m ][\u001b[39m\"\u001b[39;49m\u001b[39mSide\u001b[39;49m\u001b[39m\"\u001b[39;49m]\u001b[39m.\u001b[39;49mvalues[\u001b[39m0\u001b[39;49m]\n\u001b[1;32m     <a href='vscode-notebook-cell:/home/ajensen123%40ad.ufl.edu/repo/symmetry-trap-correction/Meta_Algorithm_Analysis.ipynb#W6sZmlsZQ%3D%3D?line=31'>32</a>\u001b[0m \u001b[39m# print(side)\u001b[39;00m\n\u001b[1;32m     <a href='vscode-notebook-cell:/home/ajensen123%40ad.ufl.edu/repo/symmetry-trap-correction/Meta_Algorithm_Analysis.ipynb#W6sZmlsZQ%3D%3D?line=32'>33</a>\u001b[0m side_dict[dict_key] \u001b[39m=\u001b[39m side\n",
      "\u001b[0;31mIndexError\u001b[0m: index 0 is out of bounds for axis 0 with size 0"
     ]
    }
   ],
   "source": [
    "pat, ses, mvt = Study_1_df.unique_pat_sess_mvt[0]\n",
    "dict_key = pat + \"_\" + ses + \"_\" + mvt\n",
    "# grab the data for the first patient, session, and movement\n",
    "\n",
    "Study_1_all = df[\n",
    "    (df[\"Patient\"] == pat) & (df[\"Session\"] == ses) & (df[\"Movement\"] == mvt)\n",
    "].reset_index(drop=True)\n",
    "\n",
    "# add side information to testing dataframe\n",
    "side_dict = {}\n",
    "\n",
    "##for subdf in Study_1_df.sub_dataframes:\n",
    " #   print(subdf.split(\"_\"))\n",
    " #   pat, _, sess, mvt, mvt_num = subdf.split(\"_\")\n",
    " #   sess = \"Session_\" + sess\n",
    " ###   mvt = mvt + \"_\" + mvt_num\n",
    "    ## print(pat,sess,mvt)\n",
    "    #side = df[\n",
    "    #    (df[\"Patient\"] == pat) & (df[\"Session\"] == sess) & (df[\"Movement\"] == mvt)\n",
    "    #][\"Side\"].values[0]\n",
    "    # print(side)\n",
    "\n",
    "for study_df in [Study_1_df, Study_3_df, Study_6_df, Study_7_df]:\n",
    "    for unique_psm in study_df.unique_pat_sess_mvt:\n",
    "        pat, ses, mvt = unique_psm\n",
    "        dict_key = pat + \"_\" + ses + \"_\" + mvt\n",
    "        #get study number\n",
    "        print(\"study number: \", study_df.study, dict_key)\n",
    "        side = df[\n",
    "            (df[\"Patient\"] == pat) & (df[\"Session\"] == ses) & (df[\"Movement\"] == mvt)\n",
    "        ][\"Side\"].values[0]\n",
    "        # print(side)\n",
    "        side_dict[dict_key] = side\n",
    "        # calculate the symmetric pose for each study"
   ]
  },
  {
   "cell_type": "code",
   "execution_count": null,
   "metadata": {},
   "outputs": [],
   "source": [
    "side_dict"
   ]
  },
  {
   "cell_type": "code",
   "execution_count": null,
   "metadata": {},
   "outputs": [],
   "source": [
    "pat_sess_mvt = Study_1_df.unique_pat_sess_mvt[0]\n",
    "print(pat_sess_mvt)\n",
    "pat_sess_mvt_key = pat_sess_mvt[0] + \"_\" + pat_sess_mvt[1] + \"_\" + pat_sess_mvt[2]\n",
    "Study_1_df.sub_dataframes[pat_sess_mvt_key].calculate_symmetric_pose(\n",
    "    side_dict, plot=False\n",
    ")\n",
    "\n",
    "def mvt_key_creator(dataframe, idx):\n",
    "    pat_sess_mvt = dataframe.unique_pat_sess_mvt[idx]\n",
    "    pat_sess_mvt_key = (\n",
    "        pat_sess_mvt[0] + \"_\" + pat_sess_mvt[1] + \"_\" + pat_sess_mvt[2]\n",
    "    )\n",
    "    return pat_sess_mvt_key"
   ]
  },
  {
   "cell_type": "markdown",
   "metadata": {},
   "source": [
    "# Applying Machine Learning Models to the dataset"
   ]
  },
  {
   "cell_type": "code",
   "execution_count": null,
   "metadata": {},
   "outputs": [],
   "source": [
    "Study_1_df.sub_dataframes[pat_sess_mvt_key].correct_kinematics_with_machine_learning(\n",
    "    svm_model\n",
    ")\n",
    "Study_1_df.sub_dataframes[pat_sess_mvt_key].create_spline()"
   ]
  },
  {
   "cell_type": "code",
   "execution_count": null,
   "metadata": {},
   "outputs": [],
   "source": [
    "Xtest = np.load(\"X.npy\")\n",
    "ttest = np.load(\"t.npy\")\n",
    "\n",
    "\n",
    "Study_1_df.sub_dataframes[pat_sess_mvt_key].correct_kinematics_with_machine_learning(\n",
    "    svm_model\n",
    ")\n",
    "Study_1_df.sub_dataframes[pat_sess_mvt_key].create_spline()\n",
    "Study_1_df.sub_dataframes[pat_sess_mvt_key].apply_spline()\n",
    "Study_1_df.sub_dataframes[pat_sess_mvt_key].confusion_matrix()\n",
    "Study_1_df.sub_dataframes[pat_sess_mvt_key].plotting_all_kinematics()"
   ]
  },
  {
   "cell_type": "code",
   "execution_count": null,
   "metadata": {},
   "outputs": [],
   "source": [
    "def ml_workflow(model):\n",
    "    total_tp = 0\n",
    "    total_tn = 0\n",
    "    total_fp = 0\n",
    "    total_fn = 0\n",
    "    sym_dist_correct = []\n",
    "    sym_dist_incorrect = []\n",
    "    \n",
    "    for study_df in [Study_1_df, Study_3_df, Study_6_df, Study_7_df]:\n",
    "        for psm_key in study_df.sub_dataframes.keys():\n",
    "            print(psm_key)\n",
    "            study_df.sub_dataframes[psm_key].calculate_symmetric_pose(side_dict)\n",
    "            study_df.sub_dataframes[psm_key].correct_kinematics_with_machine_learning(\n",
    "                model\n",
    "            )\n",
    "            study_df.sub_dataframes[psm_key].create_spline()\n",
    "            study_df.sub_dataframes[psm_key].apply_spline()\n",
    "            tp, tn, fp, fn = study_df.sub_dataframes[psm_key].confusion_matrix()\n",
    "            total_tp += tp\n",
    "            total_tn += tn\n",
    "            total_fp += fp\n",
    "            total_fn += fn\n",
    "            \n",
    "            sdc, sdi = study_df.sub_dataframes[psm_key].determine_symmetry_distance_for_each_frame()\n",
    "            sym_dist_correct.append(sdc)\n",
    "            sym_dist_incorrect.append(sdi)\n",
    "    return total_tp, total_tn, total_fp, total_fn, sym_dist_correct, sym_dist_incorrect\n",
    "    "
   ]
  },
  {
   "cell_type": "code",
   "execution_count": null,
   "metadata": {},
   "outputs": [],
   "source": [
    "tp,tn,fp,fn, sym_dist_corr, sym_dist_incorr = ml_workflow(stacked_model)"
   ]
  },
  {
   "cell_type": "code",
   "execution_count": null,
   "metadata": {},
   "outputs": [],
   "source": [
    "def plot_confusion_matrix(tp,tn,fp,fn):\n",
    "    print(np.array([[tp,fp],[fn,tn]]))"
   ]
  },
  {
   "cell_type": "code",
   "execution_count": null,
   "metadata": {},
   "outputs": [],
   "source": [
    "plot_confusion_matrix(tp,tn,fp,fn)"
   ]
  },
  {
   "cell_type": "code",
   "execution_count": null,
   "metadata": {},
   "outputs": [],
   "source": [
    "def classification_metrics(tp,tn,fp,fn, print_vals = True):\n",
    "    accuracy = (tp+tn)/(tp+tn+fp+fn)\n",
    "    precision = tp/(tp+fp)\n",
    "    sensitivity = tp/(tp+fn)\n",
    "    specificity = tn/(tn+fp)\n",
    "    recall = tp/(tp+fn)\n",
    "    f1 = 2*precision*recall/(precision+recall)\n",
    "    if print_vals:\n",
    "        print(\"Accuracy: \", np.round(accuracy,3))\n",
    "        print(\"Precision: \", np.round(precision,3))\n",
    "        print(\"Recall: \", np.round(recall,3))\n",
    "        print(\"F1: \", np.round(f1,3))\n",
    "        print(\"Sensitivity: \", np.round(sensitivity,3))\n",
    "        print(\"Specificity: \", np.round(specificity,3))\n",
    "    return accuracy, precision, recall, f1, sensitivity, specificity"
   ]
  },
  {
   "cell_type": "code",
   "execution_count": null,
   "metadata": {},
   "outputs": [],
   "source": [
    "acc, prec, rec, f1, sens, spec = classification_metrics(tp,tn,fp,fn)"
   ]
  },
  {
   "cell_type": "code",
   "execution_count": null,
   "metadata": {},
   "outputs": [],
   "source": [
    "# get average of all values in sym dist corr \n",
    "# list of numpy arrays of different lengths\n",
    "# average them all together\n",
    "\n",
    "corr_sym_dist = np.array([item for sublist in sym_dist_corr for item in sublist])\n",
    "print(corr_sym_dist.shape)\n",
    "incorr_sym_dist = np.array([item for sublist in sym_dist_incorr for item in sublist])\n",
    "print(incorr_sym_dist.shape)\n",
    "print(\"Correct Frames symmetry distance: \", np.mean(corr_sym_dist))\n",
    "print(\"Incorrect Frames symmetry distance: \",np.mean(incorr_sym_dist))"
   ]
  },
  {
   "cell_type": "code",
   "execution_count": null,
   "metadata": {},
   "outputs": [],
   "source": [
    "# Create histogram of symmetry distances\n",
    "# normalize histograms\n",
    "# plot on same plot\n",
    "\n",
    "import matplotlib.pyplot as plt\n",
    "# plot with normalized values\n",
    "plt.hist(corr_sym_dist, bins=20, density=True, alpha=0.5)\n",
    "plt.hist(incorr_sym_dist, bins=10, density=True, alpha=0.5)\n",
    "plt.show()\n",
    "\n",
    "plt.hist(corr_sym_dist, bins=20, alpha=0.5)\n",
    "plt.hist(incorr_sym_dist, bins=10, alpha=0.5)\n",
    "plt.show()"
   ]
  },
  {
   "cell_type": "code",
   "execution_count": null,
   "metadata": {},
   "outputs": [],
   "source": [
    "Study_1_df.sub_dataframes[pat_sess_mvt_key].create_kinematics_with_symmetry_traps(plot=True)"
   ]
  },
  {
   "cell_type": "code",
   "execution_count": null,
   "metadata": {},
   "outputs": [],
   "source": [
    "Study_6_df.sub_dataframes[mvt_key_creator(Study_6_df, 12)].create_kinematics_with_symmetry_traps(plot=True)\n",
    "#Study_3_df.sub_dataframes[mvt_key_creator(Study_3_df, 0)].create_kinematics_with_symmetry_traps(plot=True)\n"
   ]
  },
  {
   "cell_type": "code",
   "execution_count": null,
   "metadata": {},
   "outputs": [],
   "source": []
  }
 ],
 "metadata": {
  "kernelspec": {
   "display_name": "sym-trap-network",
   "language": "python",
   "name": "python3"
  },
  "language_info": {
   "codemirror_mode": {
    "name": "ipython",
    "version": 3
   },
   "file_extension": ".py",
   "mimetype": "text/x-python",
   "name": "python",
   "nbconvert_exporter": "python",
   "pygments_lexer": "ipython3",
   "version": "3.10.10"
  },
  "orig_nbformat": 4
 },
 "nbformat": 4,
 "nbformat_minor": 2
}
